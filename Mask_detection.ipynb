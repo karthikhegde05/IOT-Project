{
  "nbformat": 4,
  "nbformat_minor": 0,
  "metadata": {
    "colab": {
      "name": "Mask_detection.ipynb",
      "provenance": []
    },
    "kernelspec": {
      "name": "python3",
      "display_name": "Python 3"
    },
    "accelerator": "GPU"
  },
  "cells": [
    {
      "cell_type": "code",
      "metadata": {
        "id": "2-tIBENq1vRi"
      },
      "source": [
        "import torch\n",
        "import torch.nn as nn\n",
        "import torch.optim as optim\n",
        "from torch.optim import lr_scheduler\n",
        "import numpy as np\n",
        "import torchvision\n",
        "from torchvision import datasets, models, transforms\n",
        "import matplotlib.pyplot as plt\n",
        "import time\n",
        "import os\n",
        "import copy\n",
        "\n",
        "import matplotlib\n",
        "import numpy as np\n",
        "%matplotlib inline\n",
        "import pandas as pd\n",
        "import cv2 as cv\n",
        "from google.colab.patches import cv2_imshow # for image display in google colab"
      ],
      "execution_count": 1,
      "outputs": []
    },
    {
      "cell_type": "code",
      "metadata": {
        "id": "MiAPczyV3CV-"
      },
      "source": [
        "# Device configuration\n",
        "device = torch.device('cuda' if torch.cuda.is_available() else 'cpu')"
      ],
      "execution_count": 2,
      "outputs": []
    },
    {
      "cell_type": "code",
      "metadata": {
        "colab": {
          "base_uri": "https://localhost:8080/"
        },
        "id": "-c2BxOrz3C78",
        "outputId": "cc877cbb-7f43-4a9c-fd33-e3236dd29efa"
      },
      "source": [
        "mean = np.array([0.5, 0.5, 0.5])\n",
        "#std = np.array([0.25, 0.25, 0.25])\n",
        "std = np.array([0.5, 0.5, 0.5])\n",
        "\n",
        "# transforming the images before feeding to the network\n",
        "\n",
        "data_transforms = {\n",
        "    'data': transforms.Compose([\n",
        "        transforms.Resize((100, 100)),\n",
        "        transforms.ToTensor(),\n",
        "        transforms.Normalize(mean, std)\n",
        "    ])   \n",
        "}\n",
        "\n",
        "\n",
        "from google.colab import drive\n",
        "drive.mount('/content/drive')\n",
        "\n",
        "import zipfile\n",
        "\n",
        "data_path = \"/content/drive/MyDrive/Course - Work/IOT/Project/mask_detection_dataset.zip\"\n",
        "zip_ref = zipfile.ZipFile(data_path, 'r')\n",
        "zip_ref.extractall(\"/content\")\n",
        "zip_ref.close()\n",
        "\n",
        "\n",
        "folder = \"/content/dataset\"\n",
        "\n",
        "dataset = datasets.ImageFolder(folder, data_transforms['data'])"
      ],
      "execution_count": 4,
      "outputs": [
        {
          "output_type": "stream",
          "name": "stdout",
          "text": [
            "Drive already mounted at /content/drive; to attempt to forcibly remount, call drive.mount(\"/content/drive\", force_remount=True).\n"
          ]
        }
      ]
    },
    {
      "cell_type": "code",
      "source": [
        "len(dataset)"
      ],
      "metadata": {
        "colab": {
          "base_uri": "https://localhost:8080/"
        },
        "id": "r7gOJd928N-r",
        "outputId": "771dcd58-288a-4d42-fdcc-7896f7920a35"
      },
      "execution_count": 5,
      "outputs": [
        {
          "output_type": "execute_result",
          "data": {
            "text/plain": [
              "1376"
            ]
          },
          "metadata": {},
          "execution_count": 5
        }
      ]
    },
    {
      "cell_type": "code",
      "metadata": {
        "id": "lJm37a9U4WI-"
      },
      "source": [
        "#train_set = torch.utils.data.Subset(dataset, range(int(0.5*len(dataset)), int(0.95*len(dataset))))  # take first 90%\n",
        "#test_set = torch.utils.data.Subset(dataset, range(int(0.9*len(dataset)), len(dataset)))  # take the rest 10%   \n",
        "\n",
        "train_set, test_set = torch.utils.data.random_split(dataset, [int(0.8*len(dataset)), len(dataset) - int(0.8*len(dataset))])\n",
        "\n",
        "#hyperparameters\n",
        "batch_size = 4\n",
        "num_epochs = 50\n",
        "\n",
        "data_loader = {}\n",
        "data_loader['train'] = torch.utils.data.DataLoader(train_set, batch_size=batch_size, shuffle=True, num_workers=0)\n",
        "data_loader['test'] = torch.utils.data.DataLoader(test_set, batch_size=batch_size, shuffle=True, num_workers=0)"
      ],
      "execution_count": 6,
      "outputs": []
    },
    {
      "cell_type": "code",
      "metadata": {
        "colab": {
          "base_uri": "https://localhost:8080/"
        },
        "id": "5xLj1pKk5wWV",
        "outputId": "dea3f149-16dd-4ba9-aaae-3356718eb4bb"
      },
      "source": [
        "class_names = dataset.classes\n",
        "print(class_names)"
      ],
      "execution_count": 7,
      "outputs": [
        {
          "output_type": "stream",
          "name": "stdout",
          "text": [
            "['with mask', 'without mask']\n"
          ]
        }
      ]
    },
    {
      "cell_type": "code",
      "metadata": {
        "colab": {
          "base_uri": "https://localhost:8080/",
          "height": 149
        },
        "id": "rCckmDPW6Ibd",
        "outputId": "9a53a411-45ca-49ae-d465-47286e8f8124"
      },
      "source": [
        "def imshow(inp, title):\n",
        "    \"\"\"Imshow for Tensor.\"\"\"\n",
        "    inp = inp.numpy().transpose((1, 2, 0))\n",
        "    inp = std * inp + mean\n",
        "    inp = np.clip(inp, 0, 1)\n",
        "    plt.imshow(inp)\n",
        "    plt.title(title)\n",
        "    plt.show()\n",
        "\n",
        "inputs, classes = (iter(data_loader['train'])).next()\n",
        "out = torchvision.utils.make_grid(inputs)\n",
        "imshow(out, 'images')"
      ],
      "execution_count": 8,
      "outputs": [
        {
          "output_type": "display_data",
          "data": {
            "image/png": "[encoded data removed]",
            "text/plain": [
              "<Figure size 432x288 with 1 Axes>"
            ]
          },
          "metadata": {
            "needs_background": "light"
          }
        }
      ]
    },
    {
      "cell_type": "markdown",
      "metadata": {
        "id": "jBlV2uUQ6NUY"
      },
      "source": [
        "### Training CNN "
      ]
    },
    {
      "cell_type": "code",
      "metadata": {
        "id": "osU9hdoE6RsF"
      },
      "source": [
        "class MaskConvNet(nn.Module):\n",
        "    def __init__(self):\n",
        "      super(MaskConvNet, self).__init__()\n",
        "\n",
        "      # input dim (3, 100, 100)\n",
        "      self.conv_block1 = nn.Sequential(\n",
        "          nn.Conv2d(in_channels=3, out_channels=6, kernel_size=(2, 2), stride=(1, 1)),\n",
        "          #nn.BatchNorm2d(num_features=6),\n",
        "          nn.ReLU(),                                     \n",
        "          nn.MaxPool2d(kernel_size=(2, 2), stride=(2, 2))\n",
        "      )\n",
        "\n",
        "      # dim (6, 49, 49)\n",
        "      self.conv_block2 = nn.Sequential(\n",
        "          nn.Conv2d(in_channels=6, out_channels=12, kernel_size=(3, 3), stride=(1, 1)),\n",
        "          #nn.BatchNorm2d(num_features=12),\n",
        "          nn.ReLU(),\n",
        "          nn.MaxPool2d(kernel_size=(2, 2), stride=(2, 2))\n",
        "      )\n",
        "\n",
        "\n",
        "     \n",
        "      # dim (12, 23 23)\n",
        "      self.FC_block1 = nn.Sequential(\n",
        "          nn.Linear(in_features=12*23*23, out_features=50),\n",
        "          #nn.BatchNorm1d(num_features=50),\n",
        "          nn.ReLU(),\n",
        "          nn.Dropout(p=0.5)\n",
        "      )\n",
        "\n",
        "\n",
        "      # dim (1, 50)\n",
        "      self.softmax_block = nn.Sequential(\n",
        "          nn.Linear(in_features=50, out_features=2)\n",
        "      )\n",
        "\n",
        "\n",
        "    \n",
        "    def forward(self, x):\n",
        "      x = self.conv_block1(x)\n",
        "      x = self.conv_block2(x)\n",
        "      x = x.view(-1, 12*23*23)\n",
        "      x = self.FC_block1(x)\n",
        "      x = self.softmax_block(x)\n",
        "      return x\n"
      ],
      "execution_count": 9,
      "outputs": []
    },
    {
      "cell_type": "code",
      "metadata": {
        "colab": {
          "base_uri": "https://localhost:8080/"
        },
        "id": "0izy5_Wl9-aT",
        "outputId": "98122da3-77fd-49f0-9102-c57ce8fcd8b8"
      },
      "source": [
        "torch.manual_seed(1)\n",
        "np.random.seed(1)\n",
        "\n",
        "model = MaskConvNet().to(device)\n",
        "\n",
        "from torchsummary import summary\n",
        "summary(model.cuda(), (3, 100, 100))"
      ],
      "execution_count": 10,
      "outputs": [
        {
          "output_type": "stream",
          "name": "stdout",
          "text": [
            "----------------------------------------------------------------\n",
            "        Layer (type)               Output Shape         Param #\n",
            "================================================================\n",
            "            Conv2d-1            [-1, 6, 99, 99]              78\n",
            "              ReLU-2            [-1, 6, 99, 99]               0\n",
            "         MaxPool2d-3            [-1, 6, 49, 49]               0\n",
            "            Conv2d-4           [-1, 12, 47, 47]             660\n",
            "              ReLU-5           [-1, 12, 47, 47]               0\n",
            "         MaxPool2d-6           [-1, 12, 23, 23]               0\n",
            "            Linear-7                   [-1, 50]         317,450\n",
            "              ReLU-8                   [-1, 50]               0\n",
            "           Dropout-9                   [-1, 50]               0\n",
            "           Linear-10                    [-1, 2]             102\n",
            "================================================================\n",
            "Total params: 318,290\n",
            "Trainable params: 318,290\n",
            "Non-trainable params: 0\n",
            "----------------------------------------------------------------\n",
            "Input size (MB): 0.11\n",
            "Forward/backward pass size (MB): 1.46\n",
            "Params size (MB): 1.21\n",
            "Estimated Total Size (MB): 2.79\n",
            "----------------------------------------------------------------\n"
          ]
        }
      ]
    },
    {
      "cell_type": "code",
      "metadata": {
        "id": "QLDriqxE-POI"
      },
      "source": [
        "criterion = nn.CrossEntropyLoss()\n",
        "optimizer = torch.optim.Adam(model.parameters())"
      ],
      "execution_count": 11,
      "outputs": []
    },
    {
      "cell_type": "markdown",
      "metadata": {
        "id": "tXIjc_kc-lOa"
      },
      "source": [
        "Training the model"
      ]
    },
    {
      "cell_type": "code",
      "metadata": {
        "colab": {
          "base_uri": "https://localhost:8080/"
        },
        "id": "BP4Rg7vxxqMO",
        "outputId": "f0caeca8-d959-4bc0-c914-b137a09c0d5a"
      },
      "source": [
        "samples = [0 for i in range(2)]\n",
        "for (images, labels) in data_loader['test']:\n",
        "  for i in range(labels.shape[0]):\n",
        "    samples[labels[i]] += 1\n",
        "  \n",
        "samples"
      ],
      "execution_count": 12,
      "outputs": [
        {
          "output_type": "execute_result",
          "data": {
            "text/plain": [
              "[129, 147]"
            ]
          },
          "metadata": {},
          "execution_count": 12
        }
      ]
    },
    {
      "cell_type": "code",
      "metadata": {
        "colab": {
          "base_uri": "https://localhost:8080/"
        },
        "id": "j5JLchCl-mmb",
        "outputId": "8c7d1696-bc8d-464e-b8fe-b1853659027b"
      },
      "source": [
        "model = model.to(device)\n",
        "startTime = time.time()\n",
        "training_losses = []\n",
        "\n",
        "model.train()\n",
        "for epoch in range(num_epochs):\n",
        "    \n",
        "    running_loss = 0\n",
        "    for i, (images, labels) in enumerate(data_loader['train']):\n",
        "        images = images.to(device)\n",
        "        labels = labels.to(device)\n",
        "\n",
        "        # Forward pass\n",
        "        outputs = model(images)\n",
        "        loss = criterion(outputs, labels)\n",
        "\n",
        "        # Backward and optimize\n",
        "        optimizer.zero_grad()\n",
        "        loss.backward()\n",
        "        optimizer.step()\n",
        "\n",
        "        running_loss += loss.item()\n",
        "\n",
        "    training_losses.append(running_loss/(len(data_loader['train'])))\n",
        "    print (f'Epoch [{epoch+1}/{num_epochs}]  Loss: {loss.item():.4f}')\n",
        "\n",
        "\n",
        "trainTime = (time.time() - startTime)\n",
        "print('Finished Training')"
      ],
      "execution_count": 13,
      "outputs": [
        {
          "output_type": "stream",
          "name": "stdout",
          "text": [
            "Epoch [1/50]  Loss: 2.1537\n",
            "Epoch [2/50]  Loss: 0.0587\n",
            "Epoch [3/50]  Loss: 0.0007\n",
            "Epoch [4/50]  Loss: 0.0065\n",
            "Epoch [5/50]  Loss: 0.0047\n",
            "Epoch [6/50]  Loss: 0.0003\n",
            "Epoch [7/50]  Loss: 0.0056\n",
            "Epoch [8/50]  Loss: 0.0237\n",
            "Epoch [9/50]  Loss: 0.0343\n",
            "Epoch [10/50]  Loss: 0.0000\n",
            "Epoch [11/50]  Loss: 0.0012\n",
            "Epoch [12/50]  Loss: 0.0000\n",
            "Epoch [13/50]  Loss: 0.0002\n",
            "Epoch [14/50]  Loss: 0.0000\n",
            "Epoch [15/50]  Loss: 0.0001\n",
            "Epoch [16/50]  Loss: 0.1725\n",
            "Epoch [17/50]  Loss: 0.0022\n",
            "Epoch [18/50]  Loss: 0.0002\n",
            "Epoch [19/50]  Loss: 0.0001\n",
            "Epoch [20/50]  Loss: 0.0023\n",
            "Epoch [21/50]  Loss: 0.0002\n",
            "Epoch [22/50]  Loss: 0.0048\n",
            "Epoch [23/50]  Loss: 0.0347\n",
            "Epoch [24/50]  Loss: 0.0001\n",
            "Epoch [25/50]  Loss: 0.0002\n",
            "Epoch [26/50]  Loss: 0.0032\n",
            "Epoch [27/50]  Loss: 0.0000\n",
            "Epoch [28/50]  Loss: 0.0031\n",
            "Epoch [29/50]  Loss: 0.0000\n",
            "Epoch [30/50]  Loss: 0.0002\n",
            "Epoch [31/50]  Loss: 0.0000\n",
            "Epoch [32/50]  Loss: 0.0002\n",
            "Epoch [33/50]  Loss: 0.0000\n",
            "Epoch [34/50]  Loss: 0.0000\n",
            "Epoch [35/50]  Loss: 0.0000\n",
            "Epoch [36/50]  Loss: 0.0000\n",
            "Epoch [37/50]  Loss: 0.0000\n",
            "Epoch [38/50]  Loss: 0.0000\n",
            "Epoch [39/50]  Loss: 0.0001\n",
            "Epoch [40/50]  Loss: 0.0000\n",
            "Epoch [41/50]  Loss: 0.0000\n",
            "Epoch [42/50]  Loss: 0.0000\n",
            "Epoch [43/50]  Loss: 0.0000\n",
            "Epoch [44/50]  Loss: 0.0000\n",
            "Epoch [45/50]  Loss: 0.0000\n",
            "Epoch [46/50]  Loss: 0.0000\n",
            "Epoch [47/50]  Loss: 0.0000\n",
            "Epoch [48/50]  Loss: 0.0000\n",
            "Epoch [49/50]  Loss: 0.0003\n",
            "Epoch [50/50]  Loss: 0.0001\n",
            "Finished Training\n"
          ]
        }
      ]
    },
    {
      "cell_type": "code",
      "metadata": {
        "colab": {
          "base_uri": "https://localhost:8080/",
          "height": 295
        },
        "id": "4y27uIax-s-Z",
        "outputId": "0198284e-b5c6-420c-c852-ebd544e9fcc5"
      },
      "source": [
        "plt.plot(training_losses)\n",
        "plt.title('Training loss per epoch')\n",
        "plt.xlabel('epoch')\n",
        "plt.ylabel('loss')\n",
        "plt.savefig('TrainingLoss_For_maskDetection.jpg')"
      ],
      "execution_count": 14,
      "outputs": [
        {
          "output_type": "display_data",
          "data": {
            "image/png": "[encoded data removed]",
            "text/plain": [
              "<Figure size 432x288 with 1 Axes>"
            ]
          },
          "metadata": {
            "needs_background": "light"
          }
        }
      ]
    },
    {
      "cell_type": "code",
      "metadata": {
        "id": "H4RYBRlB-6kg"
      },
      "source": [
        "# Saving the model\n",
        "\n",
        "PATH = './cnn.pth'\n",
        "torch.save(model, PATH)\n",
        "# for loading - torch.load(PATH)"
      ],
      "execution_count": 15,
      "outputs": []
    },
    {
      "cell_type": "code",
      "metadata": {
        "id": "wZfbelCy_Z-W"
      },
      "source": [
        "\n",
        "def testing(dataset_type):\n",
        "  model.eval()\n",
        "  n_correct = 0\n",
        "  n_samples = 0\n",
        "  n_class_correct = [0 for i in range(2)]\n",
        "  n_class_samples = [0 for i in range(2)]\n",
        "\n",
        "  for images, labels in data_loader[dataset_type]:\n",
        "    images = images.to(device)\n",
        "    labels = labels.to(device)\n",
        "    outputs = model(images)\n",
        "\n",
        "    _, predicted = torch.max(outputs, 1)\n",
        "    n_samples += labels.shape[0]\n",
        "    n_correct += (predicted==labels).sum().item()\n",
        "\n",
        "    for i in range(labels.shape[0]):\n",
        "      label = labels[i]\n",
        "      pred = predicted[i]\n",
        "      if (label==pred):\n",
        "        n_class_correct[label] += 1\n",
        "      n_class_samples[label] += 1\n",
        "\n",
        "\n",
        "  accuracy = 100.0*n_correct/n_samples\n",
        "  print(\"Accuracy of the network for {0} dataset is {1:.4f}%\".format(dataset_type, accuracy))\n",
        "\n",
        "  for i in range(2):\n",
        "        accuracy = 100.0 * n_class_correct[i] / (n_class_samples[i]+1e-13)\n",
        "        print(\"Accuracy of {0}: {1:.4f}%\".format(classes[i], accuracy))"
      ],
      "execution_count": 16,
      "outputs": []
    },
    {
      "cell_type": "code",
      "metadata": {
        "colab": {
          "base_uri": "https://localhost:8080/"
        },
        "id": "W7bqGzBa_lFe",
        "outputId": "da3f5742-059c-4ca3-bb7f-34c2a0d80c80"
      },
      "source": [
        "print(\"Training metrics:\\n\")\n",
        "testing('train')\n",
        "print(\"\\n\\nTesting metrics:\\n\")\n",
        "testing('test')\n",
        "\n",
        "print(\"\\nTraining time: {0:.3f} minutes, {1:.3f} seconds\".format(trainTime//60, trainTime%60))"
      ],
      "execution_count": 17,
      "outputs": [
        {
          "output_type": "stream",
          "name": "stdout",
          "text": [
            "Training metrics:\n",
            "\n",
            "Accuracy of the network for train dataset is 99.8182%\n",
            "Accuracy of 0: 99.6435%\n",
            "Accuracy of 0: 100.0000%\n",
            "\n",
            "\n",
            "Testing metrics:\n",
            "\n",
            "Accuracy of the network for test dataset is 98.1884%\n",
            "Accuracy of 0: 96.1240%\n",
            "Accuracy of 0: 100.0000%\n",
            "\n",
            "Training time: 5.000 minutes, 12.495 seconds\n"
          ]
        }
      ]
    },
    {
      "cell_type": "markdown",
      "metadata": {
        "id": "V-FXVtEx_ts-"
      },
      "source": [
        "Training on entire Dataset"
      ]
    },
    {
      "cell_type": "code",
      "metadata": {
        "colab": {
          "base_uri": "https://localhost:8080/"
        },
        "id": "NOoKCNcQHGw4",
        "outputId": "314f1767-372c-429e-8620-002c1f8fc344"
      },
      "source": [
        "data = torch.utils.data.DataLoader(dataset, batch_size=batch_size, shuffle=True, num_workers=0)\n",
        "\n",
        "model = MaskConvNet().to(device)\n",
        "criterion = nn.CrossEntropyLoss()\n",
        "optimizer = torch.optim.Adam(model.parameters())\n",
        "\n",
        "num_epochs = 100\n",
        "training_losses = []\n",
        "model.train()\n",
        "for epoch in range(num_epochs):\n",
        "    \n",
        "    running_loss = 0\n",
        "    for i, (images, labels) in enumerate(data):\n",
        "        images = images.to(device)\n",
        "        labels = labels.to(device)\n",
        "\n",
        "        # Forward pass\n",
        "        outputs = model(images)\n",
        "        loss = criterion(outputs, labels)\n",
        "\n",
        "        # Backward and optimize\n",
        "        optimizer.zero_grad()\n",
        "        loss.backward()\n",
        "        optimizer.step()\n",
        "\n",
        "        running_loss += loss.item()\n",
        "\n",
        "    training_losses.append(running_loss/(len(data)))\n",
        "    print (f'Epoch [{epoch+1}/{num_epochs}]  Loss: {loss.item():.4f}')\n",
        "\n",
        "\n",
        "print('Finished Training')"
      ],
      "execution_count": 18,
      "outputs": [
        {
          "output_type": "stream",
          "name": "stdout",
          "text": [
            "Epoch [1/100]  Loss: 0.0075\n",
            "Epoch [2/100]  Loss: 0.0226\n",
            "Epoch [3/100]  Loss: 0.0315\n",
            "Epoch [4/100]  Loss: 0.0110\n",
            "Epoch [5/100]  Loss: 0.0002\n",
            "Epoch [6/100]  Loss: 0.0759\n",
            "Epoch [7/100]  Loss: 0.0175\n",
            "Epoch [8/100]  Loss: 0.0000\n",
            "Epoch [9/100]  Loss: 0.0044\n",
            "Epoch [10/100]  Loss: 0.0001\n",
            "Epoch [11/100]  Loss: 0.0012\n",
            "Epoch [12/100]  Loss: 0.0000\n",
            "Epoch [13/100]  Loss: 0.0000\n",
            "Epoch [14/100]  Loss: 0.0000\n",
            "Epoch [15/100]  Loss: 0.0000\n",
            "Epoch [16/100]  Loss: 0.0028\n",
            "Epoch [17/100]  Loss: 0.0000\n",
            "Epoch [18/100]  Loss: 0.0000\n",
            "Epoch [19/100]  Loss: 0.0013\n",
            "Epoch [20/100]  Loss: 0.0000\n",
            "Epoch [21/100]  Loss: 0.0000\n",
            "Epoch [22/100]  Loss: 0.0001\n",
            "Epoch [23/100]  Loss: 0.0000\n",
            "Epoch [24/100]  Loss: 0.0000\n",
            "Epoch [25/100]  Loss: 0.0001\n",
            "Epoch [26/100]  Loss: 0.0063\n",
            "Epoch [27/100]  Loss: 0.0635\n",
            "Epoch [28/100]  Loss: 0.0092\n",
            "Epoch [29/100]  Loss: 0.0000\n",
            "Epoch [30/100]  Loss: 0.0000\n",
            "Epoch [31/100]  Loss: 0.0000\n",
            "Epoch [32/100]  Loss: 0.0000\n",
            "Epoch [33/100]  Loss: 0.0000\n",
            "Epoch [34/100]  Loss: 0.0005\n",
            "Epoch [35/100]  Loss: 0.0000\n",
            "Epoch [36/100]  Loss: 0.1820\n",
            "Epoch [37/100]  Loss: 0.9447\n",
            "Epoch [38/100]  Loss: 0.0001\n",
            "Epoch [39/100]  Loss: 0.0000\n",
            "Epoch [40/100]  Loss: 0.0001\n",
            "Epoch [41/100]  Loss: 0.0000\n",
            "Epoch [42/100]  Loss: 0.0028\n",
            "Epoch [43/100]  Loss: 0.0000\n",
            "Epoch [44/100]  Loss: 0.0000\n",
            "Epoch [45/100]  Loss: 0.0000\n",
            "Epoch [46/100]  Loss: 0.0000\n",
            "Epoch [47/100]  Loss: 0.0000\n",
            "Epoch [48/100]  Loss: 0.0001\n",
            "Epoch [49/100]  Loss: 0.0000\n",
            "Epoch [50/100]  Loss: 0.0001\n",
            "Epoch [51/100]  Loss: 0.0000\n",
            "Epoch [52/100]  Loss: 0.0000\n",
            "Epoch [53/100]  Loss: 0.0000\n",
            "Epoch [54/100]  Loss: 0.1649\n",
            "Epoch [55/100]  Loss: 0.0000\n",
            "Epoch [56/100]  Loss: 0.0000\n",
            "Epoch [57/100]  Loss: 0.0000\n",
            "Epoch [58/100]  Loss: 0.0010\n",
            "Epoch [59/100]  Loss: 0.0000\n",
            "Epoch [60/100]  Loss: 0.0000\n",
            "Epoch [61/100]  Loss: 0.0000\n",
            "Epoch [62/100]  Loss: 0.0000\n",
            "Epoch [63/100]  Loss: 0.0000\n",
            "Epoch [64/100]  Loss: 0.0000\n",
            "Epoch [65/100]  Loss: 0.0005\n",
            "Epoch [66/100]  Loss: 0.0000\n",
            "Epoch [67/100]  Loss: 0.0000\n",
            "Epoch [68/100]  Loss: 0.0000\n",
            "Epoch [69/100]  Loss: 0.0000\n",
            "Epoch [70/100]  Loss: 0.0000\n",
            "Epoch [71/100]  Loss: 0.0000\n",
            "Epoch [72/100]  Loss: 0.0000\n",
            "Epoch [73/100]  Loss: 0.0000\n",
            "Epoch [74/100]  Loss: 0.0000\n",
            "Epoch [75/100]  Loss: 0.0031\n",
            "Epoch [76/100]  Loss: 0.0000\n",
            "Epoch [77/100]  Loss: 0.0000\n",
            "Epoch [78/100]  Loss: 0.0000\n",
            "Epoch [79/100]  Loss: 0.3104\n",
            "Epoch [80/100]  Loss: 0.0003\n",
            "Epoch [81/100]  Loss: 0.0000\n",
            "Epoch [82/100]  Loss: 0.0002\n",
            "Epoch [83/100]  Loss: 0.0000\n",
            "Epoch [84/100]  Loss: 0.0000\n",
            "Epoch [85/100]  Loss: 0.0000\n",
            "Epoch [86/100]  Loss: 0.0000\n",
            "Epoch [87/100]  Loss: 0.0000\n",
            "Epoch [88/100]  Loss: 0.0000\n",
            "Epoch [89/100]  Loss: 0.0001\n",
            "Epoch [90/100]  Loss: 0.0000\n",
            "Epoch [91/100]  Loss: 4.3721\n",
            "Epoch [92/100]  Loss: 0.0000\n",
            "Epoch [93/100]  Loss: 0.0000\n",
            "Epoch [94/100]  Loss: 0.0000\n",
            "Epoch [95/100]  Loss: 0.6599\n",
            "Epoch [96/100]  Loss: 0.0000\n",
            "Epoch [97/100]  Loss: 0.0000\n",
            "Epoch [98/100]  Loss: 0.0000\n",
            "Epoch [99/100]  Loss: 0.0000\n",
            "Epoch [100/100]  Loss: 0.0000\n",
            "Finished Training\n"
          ]
        }
      ]
    },
    {
      "cell_type": "code",
      "metadata": {
        "colab": {
          "base_uri": "https://localhost:8080/",
          "height": 295
        },
        "id": "CIaT7M40HVqR",
        "outputId": "64a5b7a9-bf0a-45e0-a245-06388384a9d3"
      },
      "source": [
        "plt.plot(training_losses)\n",
        "plt.title('Training loss per epoch')\n",
        "plt.xlabel('epoch')\n",
        "plt.ylabel('loss')\n",
        "plt.savefig('TrainingLoss_For_maskDetection.jpg')\n",
        "\n",
        "# Saving the model\n",
        "\n",
        "PATH = './Mask_CNN.pth'\n",
        "torch.save(model, PATH)\n",
        "# for loading - torch.load(PATH)"
      ],
      "execution_count": 19,
      "outputs": [
        {
          "output_type": "display_data",
          "data": {
            "image/png": "[encoded data removed]",
            "text/plain": [
              "<Figure size 432x288 with 1 Axes>"
            ]
          },
          "metadata": {
            "needs_background": "light"
          }
        }
      ]
    }
  ]
}